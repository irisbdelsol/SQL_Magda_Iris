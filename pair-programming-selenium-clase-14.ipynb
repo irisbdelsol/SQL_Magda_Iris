{
 "cells": [
  {
   "cell_type": "markdown",
   "id": "eb0fefed",
   "metadata": {},
   "source": [
    "### SELENIUM\n",
    "\n",
    "Escribe un script en Python utilizando Selenium que realice las siguientes tareas en la página web del Decathlon:\n",
    "\n",
    "1. Abra una el navegador y maximice la ventana.\n",
    "\n",
    "2. Acceda al sitio web de Decathlon en la URL \"https://www.decathlon.es/\".\n",
    "\n",
    "3. Haga clic en el botón \"Aceptar\" en la notificación de cookies utilizando su selector CSS.\n",
    "\n",
    "4. Solicite al usuario que ingrese una búsqueda (por ejemplo, un producto deportivo) mediante una entrada de texto.\n",
    "\n",
    "5. Utilice el texto ingresado para buscar productos en el sitio web de Decathlon y presione la tecla \"Enter\" para iniciar la búsqueda.\n",
    "\n",
    "6. Inicialice un diccionario llamado diccionario_resultados con tres listas vacías: \"nombre\", \"precio\" y \"puntuación\".\n",
    "\n",
    "7. Itere sobre los primeros 5 resultados de la búsqueda y realice las siguientes acciones:\n",
    "\n",
    "    a. Haga clic en un resultado específico. \n",
    "\n",
    "    b. Recopile el nombre del producto, el precio y la puntuación del producto y almacénelos en las listas correspondientes en el diccionario diccionario_resultados.\n",
    "    \n",
    "    c. Navegue de regreso a los resultados de búsqueda.\n",
    "\n",
    "Cierre el navegador Chrome."
   ]
  },
  {
   "cell_type": "code",
   "execution_count": null,
   "id": "824ecb42",
   "metadata": {},
   "outputs": [],
   "source": [
    "# Instalar Selenium y webdriver-manager\n",
    "# webdriver-manager se encarga de descargar y gestionar el WebDriver del navegador\n",
    "# automáticamenter\n",
    "!pip install selenium\n",
    "!pip install webdriver-manager"
   ]
  },
  {
   "cell_type": "code",
   "execution_count": 2,
   "id": "26ce45fc",
   "metadata": {},
   "outputs": [],
   "source": [
    "# Importar Librerías Necesarias\n",
    "\n",
    "# Importar librerías para tratamiento de datos\n",
    "# -----------------------------------------------------------------------\n",
    "import pandas as pd  # Pandas es una poderosa librería para manipulación y análisis de datos en Python.\n",
    "\n",
    "# Importar librerías para web scraping y manipulación de datos\n",
    "# -----------------------------------------------------------------------\n",
    "from bs4 import BeautifulSoup\n",
    "import requests\n",
    "\n",
    "# Importar librerías para automatización de navegadores web con Selenium\n",
    "# -----------------------------------------------------------------------\n",
    "from selenium import webdriver  # Selenium es una herramienta para automatizar la interacción con navegadores web.\n",
    "from webdriver_manager.chrome import ChromeDriverManager  # ChromeDriverManager gestiona la instalación del controlador de Chrome.\n",
    "from selenium.webdriver.common.keys import Keys  # Keys es útil para simular eventos de teclado en Selenium.\n",
    "from selenium.webdriver.support.ui import Select  # Select se utiliza para interactuar con elementos <select> en páginas web.\n",
    "\n",
    "# Importar librerías para pausar la ejecución\n",
    "# -----------------------------------------------------------------------\n",
    "from time import sleep  # Sleep se utiliza para pausar la ejecución del programa por un número de segundos.\n",
    "\n",
    "# Configuraciones\n",
    "# -----------------------------------------------------------------------\n",
    "pd.set_option('display.max_columns', None)  # Establece una opción de Pandas para mostrar todas las columnas de un DataFrame."
   ]
  },
  {
   "cell_type": "code",
   "execution_count": null,
   "id": "90fcdb31",
   "metadata": {},
   "outputs": [
    {
     "name": "stdout",
     "output_type": "stream",
     "text": [
      "Accediendo a la web con éxito\n",
      "Aceptar cookies\n"
     ]
    }
   ],
   "source": [
    "## 1 y 2\n",
    "# Inicializar un navegador web Chrome a través de WebDriver\n",
    "driver = webdriver.Chrome()\n",
    "\n",
    "# Navegar a la página web de DECATHLON\n",
    "url = \"https://www.decathlon.es/\"\n",
    "driver.get(url)\n",
    "print(\"Accediendo a la web con éxito\")\n",
    "sleep(2)\n",
    "\n",
    "# Maximizar la ventana del navegador para mostrar la página completa\n",
    "driver.maximize_window()\n",
    "sleep(5)\n",
    "\n",
    "## 3\n",
    "# Aceptar cookies\n",
    "driver.find_element(\"css selector\", \"#didomi-notice-agree-button\").click()\n",
    "print('Aceptar cookies')\n",
    "sleep(2)\n",
    "\n",
    "## 4\n",
    "#busqueda = input('Indique que desea buscar en DECATHLON:')\n",
    "driver.find_element(\"css selector\", \"#search-modal > div.search-modal__content-wrapper > div > div.search-modal__input-wrapper > form > div > div > div.search-field__input-wrapper > input\").click()\n",
    "#opcion = select.find_element(\"tag name\", \"value\")\n",
    "\n",
    "## Cerrar página web\n",
    "driver.close()"
   ]
  }
 ],
 "metadata": {
  "kernelspec": {
   "display_name": "base",
   "language": "python",
   "name": "python3"
  },
  "language_info": {
   "codemirror_mode": {
    "name": "ipython",
    "version": 3
   },
   "file_extension": ".py",
   "mimetype": "text/x-python",
   "name": "python",
   "nbconvert_exporter": "python",
   "pygments_lexer": "ipython3",
   "version": "3.12.7"
  }
 },
 "nbformat": 4,
 "nbformat_minor": 5
}
